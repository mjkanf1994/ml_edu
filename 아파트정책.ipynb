{
  "nbformat": 4,
  "nbformat_minor": 0,
  "metadata": {
    "colab": {
      "name": "아파트정책.ipynb",
      "provenance": [],
      "authorship_tag": "ABX9TyNIL+Xz1++PmgV19WAOtNs2",
      "include_colab_link": true
    },
    "kernelspec": {
      "name": "python3",
      "display_name": "Python 3"
    }
  },
  "cells": [
    {
      "cell_type": "markdown",
      "metadata": {
        "id": "view-in-github",
        "colab_type": "text"
      },
      "source": [
        "<a href=\"https://colab.research.google.com/github/mjkanf1994/ml_edu/blob/master/%EC%95%84%ED%8C%8C%ED%8A%B8%EC%A0%95%EC%B1%85.ipynb\" target=\"_parent\"><img src=\"https://colab.research.google.com/assets/colab-badge.svg\" alt=\"Open In Colab\"/></a>"
      ]
    },
    {
      "cell_type": "code",
      "metadata": {
        "id": "kkZpmg8z33Dq",
        "colab_type": "code",
        "colab": {
          "base_uri": "https://localhost:8080/",
          "height": 73
        },
        "outputId": "460942e9-646d-4ad8-d279-1ad77e6c3812"
      },
      "source": [
        "# Mount Google Drive\n",
        "from google.colab import drive # import drive from google colab\n",
        "\n",
        "ROOT = \"/content/drive\"     # default location for the drive\n",
        "print(ROOT)                 # print content of ROOT (Optional)\n",
        "drive.mount(ROOT)           # we mount the google drive at /content/drive"
      ],
      "execution_count": 34,
      "outputs": [
        {
          "output_type": "stream",
          "text": [
            "/content/drive\n",
            "Drive already mounted at /content/drive; to attempt to forcibly remount, call drive.mount(\"/content/drive\", force_remount=True).\n"
          ],
          "name": "stdout"
        }
      ]
    },
    {
      "cell_type": "code",
      "metadata": {
        "id": "68gImH5D4sDT",
        "colab_type": "code",
        "colab": {
          "base_uri": "https://localhost:8080/",
          "height": 53
        },
        "outputId": "477e5428-38cc-4a9c-a003-a891f7e195fd"
      },
      "source": [
        "%cd drive/'My Drive'/'Colab Notebooks/ml_project'"
      ],
      "execution_count": 114,
      "outputs": [
        {
          "output_type": "stream",
          "text": [
            "[Errno 2] No such file or directory: 'drive/My Drive/Colab Notebooks/ml_project'\n",
            "/content/drive/My Drive/Colab Notebooks/ml_project\n"
          ],
          "name": "stdout"
        }
      ]
    },
    {
      "cell_type": "code",
      "metadata": {
        "id": "e0V-Hqy-4u-5",
        "colab_type": "code",
        "colab": {
          "base_uri": "https://localhost:8080/",
          "height": 35
        },
        "outputId": "3cbc4b7d-428d-401f-e987-5af1eef4bc34"
      },
      "source": [
        "%pwd"
      ],
      "execution_count": 115,
      "outputs": [
        {
          "output_type": "execute_result",
          "data": {
            "application/vnd.google.colaboratory.intrinsic+json": {
              "type": "string"
            },
            "text/plain": [
              "'/content/drive/My Drive/Colab Notebooks/ml_project'"
            ]
          },
          "metadata": {
            "tags": []
          },
          "execution_count": 115
        }
      ]
    },
    {
      "cell_type": "code",
      "metadata": {
        "id": "3TiKp8E24xUq",
        "colab_type": "code",
        "colab": {
          "base_uri": "https://localhost:8080/",
          "height": 71
        },
        "outputId": "00fda4b7-732c-439e-cfae-8e346acb4771"
      },
      "source": [
        "%ls"
      ],
      "execution_count": 117,
      "outputs": [
        {
          "output_type": "stream",
          "text": [
            "gender_submission.csv  netflix_titles.csv           test.csv      weather.csv\n",
            "income4.csv            sephora_website_dataset.csv  train.csv\n",
            "income.csv             submission.csv               weather2.csv\n"
          ],
          "name": "stdout"
        }
      ]
    },
    {
      "cell_type": "code",
      "metadata": {
        "id": "DlD9LFbJ46lp",
        "colab_type": "code",
        "colab": {}
      },
      "source": [
        "import pandas as pd\n",
        "import pandas_profiling\n",
        "import numpy as np\n",
        "import matplotlib as mpl\n",
        "import matplotlib.pyplot as plt\n",
        "from matplotlib.pyplot import figure\n",
        "import seaborn as sns"
      ],
      "execution_count": 104,
      "outputs": []
    },
    {
      "cell_type": "code",
      "metadata": {
        "id": "-L3HXY1n40uq",
        "colab_type": "code",
        "colab": {}
      },
      "source": [
        "# import sample_submission file\n",
        "df= pd.read_csv('income4.csv')"
      ],
      "execution_count": 118,
      "outputs": []
    },
    {
      "cell_type": "code",
      "metadata": {
        "id": "S4kCnWV8fyiP",
        "colab_type": "code",
        "colab": {
          "base_uri": "https://localhost:8080/",
          "height": 424
        },
        "outputId": "509148d1-fade-4fa2-f040-bb56a6c99a80"
      },
      "source": [
        "df"
      ],
      "execution_count": 134,
      "outputs": [
        {
          "output_type": "execute_result",
          "data": {
            "text/html": [
              "<div>\n",
              "<style scoped>\n",
              "    .dataframe tbody tr th:only-of-type {\n",
              "        vertical-align: middle;\n",
              "    }\n",
              "\n",
              "    .dataframe tbody tr th {\n",
              "        vertical-align: top;\n",
              "    }\n",
              "\n",
              "    .dataframe thead th {\n",
              "        text-align: right;\n",
              "    }\n",
              "</style>\n",
              "<table border=\"1\" class=\"dataframe\">\n",
              "  <thead>\n",
              "    <tr style=\"text-align: right;\">\n",
              "      <th></th>\n",
              "      <th>age</th>\n",
              "      <th>2016 Average income</th>\n",
              "      <th>2016 Median income</th>\n",
              "      <th>2017 Average income</th>\n",
              "      <th>2017 Median income</th>\n",
              "      <th>2018 Average income</th>\n",
              "      <th>2018 Median income</th>\n",
              "    </tr>\n",
              "  </thead>\n",
              "  <tbody>\n",
              "    <tr>\n",
              "      <th>0</th>\n",
              "      <td>~19</td>\n",
              "      <td>74</td>\n",
              "      <td>54</td>\n",
              "      <td>74</td>\n",
              "      <td>50</td>\n",
              "      <td>78</td>\n",
              "      <td>50</td>\n",
              "    </tr>\n",
              "    <tr>\n",
              "      <th>1</th>\n",
              "      <td>20~24</td>\n",
              "      <td>144</td>\n",
              "      <td>140</td>\n",
              "      <td>149</td>\n",
              "      <td>144</td>\n",
              "      <td>155</td>\n",
              "      <td>159</td>\n",
              "    </tr>\n",
              "    <tr>\n",
              "      <th>2</th>\n",
              "      <td>25~29</td>\n",
              "      <td>224</td>\n",
              "      <td>206</td>\n",
              "      <td>229</td>\n",
              "      <td>213</td>\n",
              "      <td>237</td>\n",
              "      <td>221</td>\n",
              "    </tr>\n",
              "    <tr>\n",
              "      <th>3</th>\n",
              "      <td>30~34</td>\n",
              "      <td>282</td>\n",
              "      <td>257</td>\n",
              "      <td>290</td>\n",
              "      <td>265</td>\n",
              "      <td>299</td>\n",
              "      <td>272</td>\n",
              "    </tr>\n",
              "    <tr>\n",
              "      <th>4</th>\n",
              "      <td>35~39</td>\n",
              "      <td>321</td>\n",
              "      <td>285</td>\n",
              "      <td>331</td>\n",
              "      <td>295</td>\n",
              "      <td>341</td>\n",
              "      <td>302</td>\n",
              "    </tr>\n",
              "    <tr>\n",
              "      <th>5</th>\n",
              "      <td>40~44</td>\n",
              "      <td>335</td>\n",
              "      <td>269</td>\n",
              "      <td>348</td>\n",
              "      <td>284</td>\n",
              "      <td>362</td>\n",
              "      <td>298</td>\n",
              "    </tr>\n",
              "    <tr>\n",
              "      <th>6</th>\n",
              "      <td>45~49</td>\n",
              "      <td>341</td>\n",
              "      <td>237</td>\n",
              "      <td>355</td>\n",
              "      <td>251</td>\n",
              "      <td>367</td>\n",
              "      <td>262</td>\n",
              "    </tr>\n",
              "    <tr>\n",
              "      <th>7</th>\n",
              "      <td>50~54</td>\n",
              "      <td>335</td>\n",
              "      <td>213</td>\n",
              "      <td>351</td>\n",
              "      <td>226</td>\n",
              "      <td>360</td>\n",
              "      <td>236</td>\n",
              "    </tr>\n",
              "    <tr>\n",
              "      <th>8</th>\n",
              "      <td>55~59</td>\n",
              "      <td>295</td>\n",
              "      <td>187</td>\n",
              "      <td>312</td>\n",
              "      <td>199</td>\n",
              "      <td>320</td>\n",
              "      <td>205</td>\n",
              "    </tr>\n",
              "    <tr>\n",
              "      <th>9</th>\n",
              "      <td>60~64</td>\n",
              "      <td>219</td>\n",
              "      <td>150</td>\n",
              "      <td>234</td>\n",
              "      <td>159</td>\n",
              "      <td>235</td>\n",
              "      <td>169</td>\n",
              "    </tr>\n",
              "    <tr>\n",
              "      <th>10</th>\n",
              "      <td>65세 ~</td>\n",
              "      <td>153</td>\n",
              "      <td>106</td>\n",
              "      <td>154</td>\n",
              "      <td>105</td>\n",
              "      <td>168</td>\n",
              "      <td>122</td>\n",
              "    </tr>\n",
              "  </tbody>\n",
              "</table>\n",
              "</div>"
            ],
            "text/plain": [
              "      age  2016 Average income  ...  2018 Average income  2018 Median income\n",
              "0     ~19                   74  ...                   78                  50\n",
              "1   20~24                  144  ...                  155                 159\n",
              "2   25~29                  224  ...                  237                 221\n",
              "3   30~34                  282  ...                  299                 272\n",
              "4   35~39                  321  ...                  341                 302\n",
              "5   40~44                  335  ...                  362                 298\n",
              "6   45~49                  341  ...                  367                 262\n",
              "7   50~54                  335  ...                  360                 236\n",
              "8   55~59                  295  ...                  320                 205\n",
              "9   60~64                  219  ...                  235                 169\n",
              "10  65세 ~                  153  ...                  168                 122\n",
              "\n",
              "[11 rows x 7 columns]"
            ]
          },
          "metadata": {
            "tags": []
          },
          "execution_count": 134
        }
      ]
    },
    {
      "cell_type": "code",
      "metadata": {
        "id": "WgwbEFwy-K7_",
        "colab_type": "code",
        "colab": {}
      },
      "source": [
        "df.columns=df.columns.str.replace('년','')"
      ],
      "execution_count": 131,
      "outputs": []
    },
    {
      "cell_type": "code",
      "metadata": {
        "id": "fahhxfgQ9fMI",
        "colab_type": "code",
        "colab": {}
      },
      "source": [
        "df.columns=df.columns.str.replace('나이','age')"
      ],
      "execution_count": 133,
      "outputs": []
    },
    {
      "cell_type": "code",
      "metadata": {
        "id": "yXDS3xBHoPb6",
        "colab_type": "code",
        "colab": {}
      },
      "source": [
        "import pandas as pd\n",
        "import pandas_profiling\n",
        "import numpy as np\n",
        "import matplotlib as mpl\n",
        "import matplotlib.pyplot as plt\n",
        "from matplotlib.pyplot import figure\n",
        "import seaborn as sns"
      ],
      "execution_count": 79,
      "outputs": []
    },
    {
      "cell_type": "code",
      "metadata": {
        "id": "psDPkgNFuWn7",
        "colab_type": "code",
        "colab": {
          "base_uri": "https://localhost:8080/",
          "height": 461
        },
        "outputId": "c0a6d6be-f66c-4271-e0b7-2ee484f09824"
      },
      "source": [
        "sns.catplot(x=\"age\",y=\"2016 Average income\",kind=\"point\",data=df);"
      ],
      "execution_count": 141,
      "outputs": [
        {
          "output_type": "stream",
          "text": [
            "/usr/local/lib/python3.6/dist-packages/matplotlib/backends/backend_agg.py:214: RuntimeWarning: Glyph 49464 missing from current font.\n",
            "  font.set_text(s, 0.0, flags=flags)\n",
            "/usr/local/lib/python3.6/dist-packages/matplotlib/backends/backend_agg.py:183: RuntimeWarning: Glyph 49464 missing from current font.\n",
            "  font.set_text(s, 0, flags=flags)\n"
          ],
          "name": "stderr"
        },
        {
          "output_type": "display_data",
          "data": {
            "image/png": "[encoded data removed]",
            "text/plain": [
              "<Figure size 360x360 with 1 Axes>"
            ]
          },
          "metadata": {
            "tags": [],
            "needs_background": "light"
          }
        }
      ]
    },
    {
      "cell_type": "code",
      "metadata": {
        "id": "RV_vqlX2Aadv",
        "colab_type": "code",
        "colab": {}
      },
      "source": [
        "sns.catplot(x=\"age\",y=\"2016 Average income\",kind=\"point\",data=df);"
      ],
      "execution_count": null,
      "outputs": []
    },
    {
      "cell_type": "code",
      "metadata": {
        "id": "89m7GKbH0A5N",
        "colab_type": "code",
        "colab": {}
      },
      "source": [
        "plt.show()"
      ],
      "execution_count": 122,
      "outputs": []
    }
  ]
}