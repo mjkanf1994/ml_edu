{
  "nbformat": 4,
  "nbformat_minor": 0,
  "metadata": {
    "colab": {
      "name": "class.ipynb",
      "provenance": [],
      "authorship_tag": "ABX9TyPYXHw9blP8kRjioetaSt3A",
      "include_colab_link": true
    },
    "kernelspec": {
      "name": "python3",
      "display_name": "Python 3"
    }
  },
  "cells": [
    {
      "cell_type": "markdown",
      "metadata": {
        "id": "view-in-github",
        "colab_type": "text"
      },
      "source": [
        "<a href=\"https://colab.research.google.com/github/mjkanf1994/ml_edu/blob/master/class.ipynb\" target=\"_parent\"><img src=\"https://colab.research.google.com/assets/colab-badge.svg\" alt=\"Open In Colab\"/></a>"
      ]
    },
    {
      "cell_type": "code",
      "metadata": {
        "id": "rjQCCEtgKV7k",
        "colab_type": "code",
        "colab": {
          "base_uri": "https://localhost:8080/",
          "height": 35
        },
        "outputId": "4892b2c9-44a8-44ed-d007-f96f258d30e7"
      },
      "source": [
        "result1=0\n",
        "result2=0\n",
        "\n",
        "def add(num):\n",
        "  global result1\n",
        "  global result2\n",
        "  result1 += num\n",
        "  result2 += num\n",
        "  return [result1,result2]\n",
        "\n",
        "print(add(10))\n"
      ],
      "execution_count": 4,
      "outputs": [
        {
          "output_type": "stream",
          "text": [
            "[10, 10]\n"
          ],
          "name": "stdout"
        }
      ]
    },
    {
      "cell_type": "code",
      "metadata": {
        "id": "itFtemlZLzpL",
        "colab_type": "code",
        "colab": {
          "base_uri": "https://localhost:8080/",
          "height": 53
        },
        "outputId": "d6a82253-a5a7-4b9e-c788-1ef05b0f1ef0"
      },
      "source": [
        "result1= 0\n",
        "result2= 0\n",
        "\n",
        "def add1(num):\n",
        "  global result1\n",
        "  result1 += num\n",
        "  return result1\n",
        "\n",
        "def add2(num):\n",
        "  global result2\n",
        "  result2 += num\n",
        "  return result2\n",
        "\n",
        "print(add1(10))\n",
        "print(add2(20))  "
      ],
      "execution_count": 5,
      "outputs": [
        {
          "output_type": "stream",
          "text": [
            "10\n",
            "20\n"
          ],
          "name": "stdout"
        }
      ]
    },
    {
      "cell_type": "markdown",
      "metadata": {
        "id": "rYFoWPoZM7qX",
        "colab_type": "text"
      },
      "source": [
        "## 사람 클래스\n",
        "- 사람의 특징\n",
        "  + 이름, 나이, 취미, etc\n",
        "- 사람의 행동\n",
        "  + 잠자는 행동, 밥 먹는 행동, \n",
        "\n",
        "## 프로그래밍\n",
        "- 사람에 대한 변수\n",
        "  + name=\"rain\" & age = 20, wife_name=\"김태희\"\n",
        "- \"비\"가 하는 행동\n",
        "  + 1일 1깡, 춤추기 행동\n",
        "  def dance() : def sing() : \n",
        "  \n"
      ]
    },
    {
      "cell_type": "code",
      "metadata": {
        "id": "tIE0RG44N7D8",
        "colab_type": "code",
        "colab": {}
      },
      "source": [
        "class Human : \n",
        "  #사람에 대한 특징\n",
        "  name = \"Rain\"\n",
        "  age = 30\n",
        "\n",
        "  #사람에 대한 행동\n",
        "  def exercise(self):\n",
        "    print(\"운동합니다.\")\n",
        "\n",
        "\n",
        "\n"
      ],
      "execution_count": 6,
      "outputs": []
    },
    {
      "cell_type": "code",
      "metadata": {
        "id": "LXcr-Z1vLZaN",
        "colab_type": "code",
        "colab": {
          "base_uri": "https://localhost:8080/",
          "height": 71
        },
        "outputId": "24a0c985-0459-4e9b-ca46-f1283f0182e4"
      },
      "source": [
        "rain = Human()\n",
        "print(rain.name)\n",
        "print(rain.age)\n",
        "rain.exercise()"
      ],
      "execution_count": 7,
      "outputs": [
        {
          "output_type": "stream",
          "text": [
            "Rain\n",
            "30\n",
            "운동합니다.\n"
          ],
          "name": "stdout"
        }
      ]
    },
    {
      "cell_type": "markdown",
      "metadata": {
        "id": "P3ZY7VenO3FD",
        "colab_type": "text"
      },
      "source": [
        "## 일반적인 형태의 class"
      ]
    },
    {
      "cell_type": "code",
      "metadata": {
        "id": "UA5vNrKCO09W",
        "colab_type": "code",
        "colab": {
          "base_uri": "https://localhost:8080/",
          "height": 71
        },
        "outputId": "1effed17-0e4e-40b8-e752-0104f2010a1a"
      },
      "source": [
        "class Human:\n",
        "  def __init__(self,name,age,hobby,degree):\n",
        "    self.name=name\n",
        "    self.age=age\n",
        "    self.hobby=hobby\n",
        "    self.degree=degree\n",
        "\n",
        "\n",
        "  def describe(self):\n",
        "      return f\"{self.name}의 나이는 {self.age}이다\"\n",
        "\n",
        "evan = Human(\"Evan\",30,\"축구\",\"고졸\") \n",
        "hanna = Human(\"Hanna\",20,\"프로그래밍\",\"대졸\")\n",
        "man_1 = Human(\"man\",10,\"g\",\"고졸\")\n",
        "\n",
        "print(evan.name,evan.hobby,evan.describe())\n",
        "print(hanna.age,hanna.degree,hanna.describe())\n",
        "print(man_1.name,evan.hobby,evan.describe())"
      ],
      "execution_count": 16,
      "outputs": [
        {
          "output_type": "stream",
          "text": [
            "Evan 축구 Evan의 나이는 30이다\n",
            "20 대졸 Hanna의 나이는 20이다\n",
            "man 축구 Evan의 나이는 30이다\n"
          ],
          "name": "stdout"
        }
      ]
    },
    {
      "cell_type": "code",
      "metadata": {
        "id": "v1JfaoBoT73J",
        "colab_type": "code",
        "colab": {
          "base_uri": "https://localhost:8080/",
          "height": 35
        },
        "outputId": "c9f17fca-a7c5-4586-cac5-2772462bde86"
      },
      "source": [
        "class Human:\n",
        "  def __init__(self, name, age):\n",
        "    self.name=name\n",
        "    self.age=age\n",
        "     \n",
        "  def describe(self):\n",
        "    return f\"{self.name}의 나이는 {self.age}이다\"\n",
        "\n",
        "  def skinColor(self,color):\n",
        "    return f\"{self.name}의 피부색상은 {color}이다.\"\n",
        "\n",
        "class Asian(Human):\n",
        "  pass\n",
        "\n",
        "evan =Asian(\"Jihoon\",9)\n",
        "print(evan.skinColor(\"Yello\"))\n"
      ],
      "execution_count": 18,
      "outputs": [
        {
          "output_type": "stream",
          "text": [
            "Jihoon의 피부색상은 Yello이다.\n"
          ],
          "name": "stdout"
        }
      ]
    },
    {
      "cell_type": "code",
      "metadata": {
        "id": "KE4fT0M1ZzD_",
        "colab_type": "code",
        "colab": {
          "base_uri": "https://localhost:8080/",
          "height": 145
        },
        "outputId": "b24d35d1-30aa-461d-eeb8-6b12d7b5c9d8"
      },
      "source": [
        "# Mount Google Drive\n",
        "from google.colab import drive # import drive from google colab\n",
        "\n",
        "ROOT = \"/content/drive\"     # default location for the drive\n",
        "print(ROOT)                 # print content of ROOT (Optional)\n",
        "drive.mount(ROOT)           # we mount the google drive at /content/drive"
      ],
      "execution_count": 19,
      "outputs": [
        {
          "output_type": "stream",
          "text": [
            "/content/drive\n",
            "Go to this URL in a browser: https://accounts.google.com/o/oauth2/auth?client_id=947318989803-6bn6qk8qdgf4n4g3pfee6491hc0brc4i.apps.googleusercontent.com&redirect_uri=urn%3aietf%3awg%3aoauth%3a2.0%3aoob&scope=email%20https%3a%2f%2fwww.googleapis.com%2fauth%2fdocs.test%20https%3a%2f%2fwww.googleapis.com%2fauth%2fdrive%20https%3a%2f%2fwww.googleapis.com%2fauth%2fdrive.photos.readonly%20https%3a%2f%2fwww.googleapis.com%2fauth%2fpeopleapi.readonly&response_type=code\n",
            "\n",
            "Enter your authorization code:\n",
            "··········\n",
            "Mounted at /content/drive\n"
          ],
          "name": "stdout"
        }
      ]
    },
    {
      "cell_type": "code",
      "metadata": {
        "id": "arIfjrhUaSKX",
        "colab_type": "code",
        "colab": {
          "base_uri": "https://localhost:8080/",
          "height": 35
        },
        "outputId": "f939800f-ae23-4d4e-fe58-d0da7d2bbd7b"
      },
      "source": [
        "%cd drive/'My Drive'/'Colab Notebooks/ml_project'"
      ],
      "execution_count": 20,
      "outputs": [
        {
          "output_type": "stream",
          "text": [
            "/content/drive/My Drive/Colab Notebooks/ml_project\n"
          ],
          "name": "stdout"
        }
      ]
    },
    {
      "cell_type": "code",
      "metadata": {
        "id": "Nlt4cVt4amMM",
        "colab_type": "code",
        "colab": {
          "base_uri": "https://localhost:8080/",
          "height": 53
        },
        "outputId": "f1b16e56-fca1-47c6-f78c-6cb64a436e93"
      },
      "source": [
        "%ls"
      ],
      "execution_count": 21,
      "outputs": [
        {
          "output_type": "stream",
          "text": [
            "gender_submission.csv  sephora_website_dataset.csv  test.csv   weather2.csv\n",
            "netflix_titles.csv     submission.csv               train.csv  weather.csv\n"
          ],
          "name": "stdout"
        }
      ]
    },
    {
      "cell_type": "markdown",
      "metadata": {
        "id": "8G4kR9-xa6PT",
        "colab_type": "text"
      },
      "source": [
        "## 두개의 데이터가 다른 것 확인\n",
        "- 변수명이 다름"
      ]
    },
    {
      "cell_type": "code",
      "metadata": {
        "id": "FV33eWbkayjl",
        "colab_type": "code",
        "colab": {}
      },
      "source": [
        "import pandas as pd\n",
        "data1 = pd.read_csv('weather.csv')\n",
        "data2 = pd.read_csv('weather2.csv')"
      ],
      "execution_count": 23,
      "outputs": []
    },
    {
      "cell_type": "code",
      "metadata": {
        "id": "-WCk2qEmbX5k",
        "colab_type": "code",
        "colab": {}
      },
      "source": [
        "from sklearn.ensemble import RandomForestRegressor\n",
        "from sklearn.linear_model import LinearRegression\n",
        "from sklearn.model_selection import train_test_split\n",
        "import numpy as np\n",
        "import pandas as pd\n",
        "\n",
        "\n",
        "class Model:\n",
        "    def __init__(self, datafile, model_type = None):\n",
        "       self.datafile = datafile\n",
        "       self.df = pd.read_csv(datafile)\n",
        "       data_columns = ['Formatted Date', 'Summary', 'Precip Type', \n",
        "                       'Temperature (C)', 'Apparent Temperature (C)', \n",
        "                       'Humidity', 'Wind Speed (km/h)', 'Wind Bearing (degrees)',\n",
        "                       'Visibility (km)', 'Loud Cover', 'Pressure (millibars)','Daily Summary']\n",
        "       self.df.columns = data_columns\n",
        "\n",
        "       if model_type == 'rf':\n",
        "            self.user_defined_model = RandomForestRegressor() \n",
        "       else:\n",
        "            self.user_defined_model = LinearRegression()\n",
        "\n",
        "\n",
        " #데이터셋 분리           \n",
        "    def split(self, test_size):\n",
        "        X = np.array(self.df[['Humidity', 'Pressure (millibars)']])\n",
        "        y = np.array(self.df['Temperature (C)'])\n",
        "        self.X_train, self.X_test, self.y_train, self.y_test = train_test_split(X, y, test_size = test_size, random_state = 42)\n",
        "    \n",
        "    def fit(self):\n",
        "        self.model = self.user_defined_model.fit(self.X_train, self.y_train)\n",
        "    \n",
        "    def predict(self, input_value):\n",
        "        if input_value == None:\n",
        "            result = self.user_defined_model.predict(self.X_test)\n",
        "        else: \n",
        "            result = self.user_defined_model.predict(np.array([input_value]))\n",
        "        return result"
      ],
      "execution_count": 24,
      "outputs": []
    },
    {
      "cell_type": "code",
      "metadata": {
        "id": "HDcf37HPcppl",
        "colab_type": "code",
        "colab": {
          "base_uri": "https://localhost:8080/",
          "height": 53
        },
        "outputId": "5a3a84d2-b817-4a26-cab3-4ee841a9f7d6"
      },
      "source": [
        "if __name__ == '__main__':\n",
        "    a_model = Model(datafile=\"weather.csv\", model_type=None)\n",
        "    a_model.split(0.2)\n",
        "    a_model.fit()    \n",
        "    print(a_model.predict([.9, 1000]))\n",
        "    print(\"Accuracy: \", a_model.model.score(a_model.X_test, a_model.y_test))"
      ],
      "execution_count": 25,
      "outputs": [
        {
          "output_type": "stream",
          "text": [
            "[6.83625473]\n",
            "Accuracy:  0.39578560465686424\n"
          ],
          "name": "stdout"
        }
      ]
    },
    {
      "cell_type": "code",
      "metadata": {
        "id": "vAF5d6s6c99e",
        "colab_type": "code",
        "colab": {
          "base_uri": "https://localhost:8080/",
          "height": 53
        },
        "outputId": "d00f7511-21d1-45d3-e1c6-7971db5d5682"
      },
      "source": [
        "if __name__ == '__main__':\n",
        "    a_model = Model(datafile=\"weather2.csv\", model_type=None)\n",
        "    a_model.split(0.3)\n",
        "    a_model.fit()    \n",
        "    print(a_model.predict([.9, 1000]))\n",
        "    print(\"Accuracy: \", a_model.model.score(a_model.X_test, a_model.y_test))"
      ],
      "execution_count": 27,
      "outputs": [
        {
          "output_type": "stream",
          "text": [
            "[7.15581866]\n",
            "Accuracy:  0.35698882811391797\n"
          ],
          "name": "stdout"
        }
      ]
    },
    {
      "cell_type": "code",
      "metadata": {
        "id": "GFzgPTLVdasm",
        "colab_type": "code",
        "colab": {
          "base_uri": "https://localhost:8080/",
          "height": 53
        },
        "outputId": "72a93924-4459-44bc-eddf-8a2244e91e90"
      },
      "source": [
        "if __name__ == '__main__':\n",
        "    a_model = Model(datafile=\"weather2.csv\", model_type=None)\n",
        "    a_model.split(0.5)\n",
        "    a_model.fit()    \n",
        "    print(a_model.predict([.9, 1000]))\n",
        "    print(\"Accuracy: \", a_model.model.score(a_model.X_test, a_model.y_test))"
      ],
      "execution_count": 28,
      "outputs": [
        {
          "output_type": "stream",
          "text": [
            "[7.03786154]\n",
            "Accuracy:  0.35278160461583785\n"
          ],
          "name": "stdout"
        }
      ]
    }
  ]
}