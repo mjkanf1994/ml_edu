{
  "nbformat": 4,
  "nbformat_minor": 0,
  "metadata": {
    "colab": {
      "name": "sephora_python.ipynb",
      "provenance": [],
      "collapsed_sections": [],
      "toc_visible": true,
      "authorship_tag": "ABX9TyMa5mDPsOVg7ywCYXCZ2WOc",
      "include_colab_link": true
    },
    "kernelspec": {
      "name": "python3",
      "display_name": "Python 3"
    }
  },
  "cells": [
    {
      "cell_type": "markdown",
      "metadata": {
        "id": "view-in-github",
        "colab_type": "text"
      },
      "source": [
        "<a href=\"https://colab.research.google.com/github/mjkanf1994/ml_edu/blob/master/sephora_python.ipynb\" target=\"_parent\"><img src=\"https://colab.research.google.com/assets/colab-badge.svg\" alt=\"Open In Colab\"/></a>"
      ]
    },
    {
      "cell_type": "markdown",
      "metadata": {
        "id": "sPI6erTmtMPG",
        "colab_type": "text"
      },
      "source": [
        "세포라 웹 사이트\n",
        "https://www.kaggle.com/raghadalharbi/all-products-available-on-sephora-website/notebooks"
      ]
    },
    {
      "cell_type": "code",
      "metadata": {
        "id": "afVTBOpBtRm6",
        "colab_type": "code",
        "colab": {
          "base_uri": "https://localhost:8080/",
          "height": 145
        },
        "outputId": "07449c6d-45b4-453c-ce4c-62024c0e3ffd"
      },
      "source": [
        "# Mount Google Drive\n",
        "from google.colab import drive # import drive from google colab\n",
        "\n",
        "ROOT = \"/content/drive\"     # default location for the drive\n",
        "print(ROOT)                 # print content of ROOT (Optional)\n",
        "drive.mount(ROOT)           # we mount the google drive at /content/drive"
      ],
      "execution_count": 1,
      "outputs": [
        {
          "output_type": "stream",
          "text": [
            "/content/drive\n",
            "Go to this URL in a browser: https://accounts.google.com/o/oauth2/auth?client_id=947318989803-6bn6qk8qdgf4n4g3pfee6491hc0brc4i.apps.googleusercontent.com&redirect_uri=urn%3aietf%3awg%3aoauth%3a2.0%3aoob&scope=email%20https%3a%2f%2fwww.googleapis.com%2fauth%2fdocs.test%20https%3a%2f%2fwww.googleapis.com%2fauth%2fdrive%20https%3a%2f%2fwww.googleapis.com%2fauth%2fdrive.photos.readonly%20https%3a%2f%2fwww.googleapis.com%2fauth%2fpeopleapi.readonly&response_type=code\n",
            "\n",
            "Enter your authorization code:\n",
            "··········\n",
            "Mounted at /content/drive\n"
          ],
          "name": "stdout"
        }
      ]
    },
    {
      "cell_type": "code",
      "metadata": {
        "id": "UGVrdIvdtqSc",
        "colab_type": "code",
        "colab": {
          "base_uri": "https://localhost:8080/",
          "height": 35
        },
        "outputId": "7acd9224-1cb4-46e7-f588-c076a36fe60f"
      },
      "source": [
        "%cd drive/'My Drive'/'Colab Notebooks/ml_project'"
      ],
      "execution_count": 2,
      "outputs": [
        {
          "output_type": "stream",
          "text": [
            "/content/drive/My Drive/Colab Notebooks/ml_project\n"
          ],
          "name": "stdout"
        }
      ]
    },
    {
      "cell_type": "code",
      "metadata": {
        "id": "_1tjoSBkts7s",
        "colab_type": "code",
        "colab": {
          "base_uri": "https://localhost:8080/",
          "height": 35
        },
        "outputId": "7a5db89a-65da-4369-abc0-bf4875397b2c"
      },
      "source": [
        "%pwd"
      ],
      "execution_count": 3,
      "outputs": [
        {
          "output_type": "execute_result",
          "data": {
            "application/vnd.google.colaboratory.intrinsic+json": {
              "type": "string"
            },
            "text/plain": [
              "'/content/drive/My Drive/Colab Notebooks/ml_project'"
            ]
          },
          "metadata": {
            "tags": []
          },
          "execution_count": 3
        }
      ]
    },
    {
      "cell_type": "code",
      "metadata": {
        "id": "jjuSiIEXtub7",
        "colab_type": "code",
        "colab": {
          "base_uri": "https://localhost:8080/",
          "height": 53
        },
        "outputId": "625ab36c-5d76-41ac-abfd-994d679695c2"
      },
      "source": [
        "%ls"
      ],
      "execution_count": 4,
      "outputs": [
        {
          "output_type": "stream",
          "text": [
            "gender_submission.csv  sephora_website_dataset.csv  test.csv   weather2.csv\n",
            "netflix_titles.csv     submission.csv               train.csv  weather.csv\n"
          ],
          "name": "stdout"
        }
      ]
    },
    {
      "cell_type": "code",
      "metadata": {
        "id": "Zs2yA46BtvQc",
        "colab_type": "code",
        "colab": {
          "base_uri": "https://localhost:8080/",
          "height": 53
        },
        "outputId": "8675ccf0-82d5-406f-c0a9-bb68f5d05be4"
      },
      "source": [
        "import pandas as pd\n",
        "import pandas_profiling\n",
        "import numpy as np\n",
        "import matplotlib as mpl\n",
        "import matplotlib.pyplot as plt\n",
        "from matplotlib.pyplot import figure\n",
        "import seaborn as sns"
      ],
      "execution_count": 5,
      "outputs": [
        {
          "output_type": "stream",
          "text": [
            "/usr/local/lib/python3.6/dist-packages/statsmodels/tools/_testing.py:19: FutureWarning: pandas.util.testing is deprecated. Use the functions in the public API at pandas.testing instead.\n",
            "  import pandas.util.testing as tm\n"
          ],
          "name": "stderr"
        }
      ]
    },
    {
      "cell_type": "code",
      "metadata": {
        "id": "iRFzu2aEt0Fs",
        "colab_type": "code",
        "colab": {}
      },
      "source": [
        "# import sample_submission file\n",
        "sep= pd.read_csv('sephora_website_dataset.csv')"
      ],
      "execution_count": 6,
      "outputs": []
    },
    {
      "cell_type": "code",
      "metadata": {
        "id": "k87XAgCsuQVd",
        "colab_type": "code",
        "colab": {
          "base_uri": "https://localhost:8080/",
          "height": 1000
        },
        "outputId": "6d570370-a708-454b-f61a-69abd97b28f0"
      },
      "source": [
        "display(sep)"
      ],
      "execution_count": 7,
      "outputs": [
        {
          "output_type": "display_data",
          "data": {
            "text/html": [
              "<div>\n",
              "<style scoped>\n",
              "    .dataframe tbody tr th:only-of-type {\n",
              "        vertical-align: middle;\n",
              "    }\n",
              "\n",
              "    .dataframe tbody tr th {\n",
              "        vertical-align: top;\n",
              "    }\n",
              "\n",
              "    .dataframe thead th {\n",
              "        text-align: right;\n",
              "    }\n",
              "</style>\n",
              "<table border=\"1\" class=\"dataframe\">\n",
              "  <thead>\n",
              "    <tr style=\"text-align: right;\">\n",
              "      <th></th>\n",
              "      <th>id</th>\n",
              "      <th>brand</th>\n",
              "      <th>category</th>\n",
              "      <th>name</th>\n",
              "      <th>size</th>\n",
              "      <th>rating</th>\n",
              "      <th>number_of_reviews</th>\n",
              "      <th>love</th>\n",
              "      <th>price</th>\n",
              "      <th>value_price</th>\n",
              "      <th>URL</th>\n",
              "      <th>MarketingFlags</th>\n",
              "      <th>MarketingFlags_content</th>\n",
              "      <th>options</th>\n",
              "      <th>details</th>\n",
              "      <th>how_to_use</th>\n",
              "      <th>ingredients</th>\n",
              "      <th>online_only</th>\n",
              "      <th>exclusive</th>\n",
              "      <th>limited_edition</th>\n",
              "      <th>limited_time_offer</th>\n",
              "    </tr>\n",
              "  </thead>\n",
              "  <tbody>\n",
              "    <tr>\n",
              "      <th>0</th>\n",
              "      <td>2218774</td>\n",
              "      <td>Acqua Di Parma</td>\n",
              "      <td>Fragrance</td>\n",
              "      <td>Blu Mediterraneo MINIATURE Set</td>\n",
              "      <td>5 x 0.16oz/5mL</td>\n",
              "      <td>4.0</td>\n",
              "      <td>4</td>\n",
              "      <td>3002</td>\n",
              "      <td>66.0</td>\n",
              "      <td>75.0</td>\n",
              "      <td>https://www.sephora.com/product/blu-mediterran...</td>\n",
              "      <td>True</td>\n",
              "      <td>online only</td>\n",
              "      <td>no options</td>\n",
              "      <td>This enchanting set comes in a specially handc...</td>\n",
              "      <td>Suggested Usage:-Fragrance is intensified by t...</td>\n",
              "      <td>Arancia di Capri Eau de Toilette: Alcohol Dena...</td>\n",
              "      <td>1</td>\n",
              "      <td>0</td>\n",
              "      <td>0</td>\n",
              "      <td>0</td>\n",
              "    </tr>\n",
              "    <tr>\n",
              "      <th>1</th>\n",
              "      <td>2044816</td>\n",
              "      <td>Acqua Di Parma</td>\n",
              "      <td>Cologne</td>\n",
              "      <td>Colonia</td>\n",
              "      <td>0.7 oz/ 20 mL</td>\n",
              "      <td>4.5</td>\n",
              "      <td>76</td>\n",
              "      <td>2700</td>\n",
              "      <td>66.0</td>\n",
              "      <td>66.0</td>\n",
              "      <td>https://www.sephora.com/product/colonia-P16360...</td>\n",
              "      <td>True</td>\n",
              "      <td>online only</td>\n",
              "      <td>- 0.7 oz/ 20 mL  Spray  - 1.7 oz/ 50 mL Eau d...</td>\n",
              "      <td>An elegant timeless scent filled with a fresh-...</td>\n",
              "      <td>no instructions</td>\n",
              "      <td>unknown</td>\n",
              "      <td>1</td>\n",
              "      <td>0</td>\n",
              "      <td>0</td>\n",
              "      <td>0</td>\n",
              "    </tr>\n",
              "    <tr>\n",
              "      <th>2</th>\n",
              "      <td>1417567</td>\n",
              "      <td>Acqua Di Parma</td>\n",
              "      <td>Perfume</td>\n",
              "      <td>Arancia di Capri</td>\n",
              "      <td>5 oz/ 148 mL</td>\n",
              "      <td>4.5</td>\n",
              "      <td>26</td>\n",
              "      <td>2600</td>\n",
              "      <td>180.0</td>\n",
              "      <td>180.0</td>\n",
              "      <td>https://www.sephora.com/product/blu-mediterran...</td>\n",
              "      <td>True</td>\n",
              "      <td>online only</td>\n",
              "      <td>- 1oz/30mL Eau de Toilette  - 2.5 oz/ 74 mL E...</td>\n",
              "      <td>Fragrance Family: Fresh Scent Type: Fresh Citr...</td>\n",
              "      <td>no instructions</td>\n",
              "      <td>Alcohol Denat.- Water- Fragrance- Limonene- Li...</td>\n",
              "      <td>1</td>\n",
              "      <td>0</td>\n",
              "      <td>0</td>\n",
              "      <td>0</td>\n",
              "    </tr>\n",
              "    <tr>\n",
              "      <th>3</th>\n",
              "      <td>1417617</td>\n",
              "      <td>Acqua Di Parma</td>\n",
              "      <td>Perfume</td>\n",
              "      <td>Mirto di Panarea</td>\n",
              "      <td>2.5 oz/ 74 mL</td>\n",
              "      <td>4.5</td>\n",
              "      <td>23</td>\n",
              "      <td>2900</td>\n",
              "      <td>120.0</td>\n",
              "      <td>120.0</td>\n",
              "      <td>https://www.sephora.com/product/blu-mediterran...</td>\n",
              "      <td>True</td>\n",
              "      <td>online only</td>\n",
              "      <td>- 1 oz/ 30 mL Eau de Toilette Spray - 2.5 oz/...</td>\n",
              "      <td>Panarea near Sicily is an an island suspended ...</td>\n",
              "      <td>no instructions</td>\n",
              "      <td>unknown</td>\n",
              "      <td>1</td>\n",
              "      <td>0</td>\n",
              "      <td>0</td>\n",
              "      <td>0</td>\n",
              "    </tr>\n",
              "    <tr>\n",
              "      <th>4</th>\n",
              "      <td>2218766</td>\n",
              "      <td>Acqua Di Parma</td>\n",
              "      <td>Fragrance</td>\n",
              "      <td>Colonia Miniature Set</td>\n",
              "      <td>5 x 0.16oz/5mL</td>\n",
              "      <td>3.5</td>\n",
              "      <td>2</td>\n",
              "      <td>943</td>\n",
              "      <td>72.0</td>\n",
              "      <td>80.0</td>\n",
              "      <td>https://www.sephora.com/product/colonia-miniat...</td>\n",
              "      <td>True</td>\n",
              "      <td>online only</td>\n",
              "      <td>no options</td>\n",
              "      <td>The Colonia Miniature Set comes in an iconic A...</td>\n",
              "      <td>Suggested Usage:-Fragrance is intensified by t...</td>\n",
              "      <td>Colonia: Alcohol Denat.- Water- Fragrance- Lim...</td>\n",
              "      <td>1</td>\n",
              "      <td>0</td>\n",
              "      <td>0</td>\n",
              "      <td>0</td>\n",
              "    </tr>\n",
              "    <tr>\n",
              "      <th>...</th>\n",
              "      <td>...</td>\n",
              "      <td>...</td>\n",
              "      <td>...</td>\n",
              "      <td>...</td>\n",
              "      <td>...</td>\n",
              "      <td>...</td>\n",
              "      <td>...</td>\n",
              "      <td>...</td>\n",
              "      <td>...</td>\n",
              "      <td>...</td>\n",
              "      <td>...</td>\n",
              "      <td>...</td>\n",
              "      <td>...</td>\n",
              "      <td>...</td>\n",
              "      <td>...</td>\n",
              "      <td>...</td>\n",
              "      <td>...</td>\n",
              "      <td>...</td>\n",
              "      <td>...</td>\n",
              "      <td>...</td>\n",
              "      <td>...</td>\n",
              "    </tr>\n",
              "    <tr>\n",
              "      <th>9163</th>\n",
              "      <td>2208502</td>\n",
              "      <td>SEPHORA COLLECTION</td>\n",
              "      <td>Face Masks</td>\n",
              "      <td>The Rose Gold Mask</td>\n",
              "      <td>no size</td>\n",
              "      <td>2.0</td>\n",
              "      <td>15</td>\n",
              "      <td>6200</td>\n",
              "      <td>6.0</td>\n",
              "      <td>6.0</td>\n",
              "      <td>https://www.sephora.com/product/the-rose-gold-...</td>\n",
              "      <td>True</td>\n",
              "      <td>limited edition · exclusive</td>\n",
              "      <td>no options</td>\n",
              "      <td>What it is: A limited-edition- nurturing and h...</td>\n",
              "      <td>Suggested Usage:-Unfold the mask.-Apply the ma...</td>\n",
              "      <td>-Rose Quartz Extract: Hydrates dry skin.  Aqua...</td>\n",
              "      <td>0</td>\n",
              "      <td>1</td>\n",
              "      <td>1</td>\n",
              "      <td>0</td>\n",
              "    </tr>\n",
              "    <tr>\n",
              "      <th>9164</th>\n",
              "      <td>2298909</td>\n",
              "      <td>SEPHORA COLLECTION</td>\n",
              "      <td>Lip Sets</td>\n",
              "      <td>Give Me Some Sugar Colorful Gloss Balm Set</td>\n",
              "      <td>3 x 0.32 oz/ 9 g</td>\n",
              "      <td>0.0</td>\n",
              "      <td>0</td>\n",
              "      <td>266</td>\n",
              "      <td>15.0</td>\n",
              "      <td>27.0</td>\n",
              "      <td>https://www.sephora.com/product/sephora-collec...</td>\n",
              "      <td>True</td>\n",
              "      <td>exclusive</td>\n",
              "      <td>no options</td>\n",
              "      <td>What it is: A set of three bestselling Colorfu...</td>\n",
              "      <td>Suggested Usage:-Apply directly to lips using ...</td>\n",
              "      <td>Colorful Gloss Balm Wanderlust: Hydrogenated P...</td>\n",
              "      <td>0</td>\n",
              "      <td>1</td>\n",
              "      <td>0</td>\n",
              "      <td>0</td>\n",
              "    </tr>\n",
              "    <tr>\n",
              "      <th>9165</th>\n",
              "      <td>2236750</td>\n",
              "      <td>SEPHORA COLLECTION</td>\n",
              "      <td>Tinted Moisturizer</td>\n",
              "      <td>Weekend Warrior Tone Up Cream</td>\n",
              "      <td>0.946 oz/ 28 mL</td>\n",
              "      <td>0.0</td>\n",
              "      <td>0</td>\n",
              "      <td>445</td>\n",
              "      <td>16.0</td>\n",
              "      <td>16.0</td>\n",
              "      <td>https://www.sephora.com/product/sephora-collec...</td>\n",
              "      <td>True</td>\n",
              "      <td>exclusive</td>\n",
              "      <td>no options</td>\n",
              "      <td>What it is: A weightless complexion booster- i...</td>\n",
              "      <td>Suggested Usage:-Use this product as the last ...</td>\n",
              "      <td>Aqua (Water)- Dimethicone- Isohexadecane- Poly...</td>\n",
              "      <td>0</td>\n",
              "      <td>1</td>\n",
              "      <td>0</td>\n",
              "      <td>0</td>\n",
              "    </tr>\n",
              "    <tr>\n",
              "      <th>9166</th>\n",
              "      <td>50</td>\n",
              "      <td>SEPHORA COLLECTION</td>\n",
              "      <td>no category</td>\n",
              "      <td>Gift Card</td>\n",
              "      <td>no size</td>\n",
              "      <td>5.0</td>\n",
              "      <td>46</td>\n",
              "      <td>0</td>\n",
              "      <td>50.0</td>\n",
              "      <td>50.0</td>\n",
              "      <td>https://www.sephora.com/product/gift-card-P370...</td>\n",
              "      <td>False</td>\n",
              "      <td>0</td>\n",
              "      <td>no options</td>\n",
              "      <td>What it is:- Available in denominations of $10...</td>\n",
              "      <td>no instructions</td>\n",
              "      <td>unknown</td>\n",
              "      <td>0</td>\n",
              "      <td>0</td>\n",
              "      <td>0</td>\n",
              "      <td>0</td>\n",
              "    </tr>\n",
              "    <tr>\n",
              "      <th>9167</th>\n",
              "      <td>304</td>\n",
              "      <td>SEPHORA COLLECTION</td>\n",
              "      <td>no category</td>\n",
              "      <td>Happy Birthday Gift Card</td>\n",
              "      <td>no size</td>\n",
              "      <td>0.0</td>\n",
              "      <td>0</td>\n",
              "      <td>0</td>\n",
              "      <td>50.0</td>\n",
              "      <td>50.0</td>\n",
              "      <td>https://www.sephora.com/product/happy-birthday...</td>\n",
              "      <td>False</td>\n",
              "      <td>0</td>\n",
              "      <td>no options</td>\n",
              "      <td>What it is:\\n- Available in denominations of $...</td>\n",
              "      <td>no instructions</td>\n",
              "      <td>unknown</td>\n",
              "      <td>0</td>\n",
              "      <td>0</td>\n",
              "      <td>0</td>\n",
              "      <td>0</td>\n",
              "    </tr>\n",
              "  </tbody>\n",
              "</table>\n",
              "<p>9168 rows × 21 columns</p>\n",
              "</div>"
            ],
            "text/plain": [
              "           id               brand  ... limited_edition limited_time_offer\n",
              "0     2218774      Acqua Di Parma  ...               0                  0\n",
              "1     2044816      Acqua Di Parma  ...               0                  0\n",
              "2     1417567      Acqua Di Parma  ...               0                  0\n",
              "3     1417617      Acqua Di Parma  ...               0                  0\n",
              "4     2218766      Acqua Di Parma  ...               0                  0\n",
              "...       ...                 ...  ...             ...                ...\n",
              "9163  2208502  SEPHORA COLLECTION  ...               1                  0\n",
              "9164  2298909  SEPHORA COLLECTION  ...               0                  0\n",
              "9165  2236750  SEPHORA COLLECTION  ...               0                  0\n",
              "9166       50  SEPHORA COLLECTION  ...               0                  0\n",
              "9167      304  SEPHORA COLLECTION  ...               0                  0\n",
              "\n",
              "[9168 rows x 21 columns]"
            ]
          },
          "metadata": {
            "tags": []
          }
        }
      ]
    },
    {
      "cell_type": "code",
      "metadata": {
        "id": "ObsmT-7oumud",
        "colab_type": "code",
        "colab": {
          "base_uri": "https://localhost:8080/",
          "height": 297
        },
        "outputId": "418e1799-e688-42b1-fa72-51aae1c09a35"
      },
      "source": [
        "sep.describe()"
      ],
      "execution_count": 8,
      "outputs": [
        {
          "output_type": "execute_result",
          "data": {
            "text/html": [
              "<div>\n",
              "<style scoped>\n",
              "    .dataframe tbody tr th:only-of-type {\n",
              "        vertical-align: middle;\n",
              "    }\n",
              "\n",
              "    .dataframe tbody tr th {\n",
              "        vertical-align: top;\n",
              "    }\n",
              "\n",
              "    .dataframe thead th {\n",
              "        text-align: right;\n",
              "    }\n",
              "</style>\n",
              "<table border=\"1\" class=\"dataframe\">\n",
              "  <thead>\n",
              "    <tr style=\"text-align: right;\">\n",
              "      <th></th>\n",
              "      <th>id</th>\n",
              "      <th>rating</th>\n",
              "      <th>number_of_reviews</th>\n",
              "      <th>love</th>\n",
              "      <th>price</th>\n",
              "      <th>value_price</th>\n",
              "      <th>online_only</th>\n",
              "      <th>exclusive</th>\n",
              "      <th>limited_edition</th>\n",
              "      <th>limited_time_offer</th>\n",
              "    </tr>\n",
              "  </thead>\n",
              "  <tbody>\n",
              "    <tr>\n",
              "      <th>count</th>\n",
              "      <td>9.168000e+03</td>\n",
              "      <td>9168.000000</td>\n",
              "      <td>9168.000000</td>\n",
              "      <td>9.168000e+03</td>\n",
              "      <td>9168.000000</td>\n",
              "      <td>9168.00000</td>\n",
              "      <td>9168.000000</td>\n",
              "      <td>9168.000000</td>\n",
              "      <td>9168.000000</td>\n",
              "      <td>9168.000000</td>\n",
              "    </tr>\n",
              "    <tr>\n",
              "      <th>mean</th>\n",
              "      <td>1.962952e+06</td>\n",
              "      <td>3.990020</td>\n",
              "      <td>282.139180</td>\n",
              "      <td>1.627859e+04</td>\n",
              "      <td>50.063237</td>\n",
              "      <td>51.82359</td>\n",
              "      <td>0.234839</td>\n",
              "      <td>0.264725</td>\n",
              "      <td>0.091841</td>\n",
              "      <td>0.000327</td>\n",
              "    </tr>\n",
              "    <tr>\n",
              "      <th>std</th>\n",
              "      <td>3.859714e+05</td>\n",
              "      <td>1.007707</td>\n",
              "      <td>890.642028</td>\n",
              "      <td>4.260651e+04</td>\n",
              "      <td>47.164989</td>\n",
              "      <td>49.45902</td>\n",
              "      <td>0.423921</td>\n",
              "      <td>0.441211</td>\n",
              "      <td>0.288817</td>\n",
              "      <td>0.018087</td>\n",
              "    </tr>\n",
              "    <tr>\n",
              "      <th>min</th>\n",
              "      <td>5.000000e+01</td>\n",
              "      <td>0.000000</td>\n",
              "      <td>0.000000</td>\n",
              "      <td>0.000000e+00</td>\n",
              "      <td>2.000000</td>\n",
              "      <td>2.00000</td>\n",
              "      <td>0.000000</td>\n",
              "      <td>0.000000</td>\n",
              "      <td>0.000000</td>\n",
              "      <td>0.000000</td>\n",
              "    </tr>\n",
              "    <tr>\n",
              "      <th>25%</th>\n",
              "      <td>1.819453e+06</td>\n",
              "      <td>4.000000</td>\n",
              "      <td>10.000000</td>\n",
              "      <td>1.600000e+03</td>\n",
              "      <td>24.000000</td>\n",
              "      <td>25.00000</td>\n",
              "      <td>0.000000</td>\n",
              "      <td>0.000000</td>\n",
              "      <td>0.000000</td>\n",
              "      <td>0.000000</td>\n",
              "    </tr>\n",
              "    <tr>\n",
              "      <th>50%</th>\n",
              "      <td>2.072354e+06</td>\n",
              "      <td>4.000000</td>\n",
              "      <td>46.000000</td>\n",
              "      <td>4.800000e+03</td>\n",
              "      <td>35.000000</td>\n",
              "      <td>35.00000</td>\n",
              "      <td>0.000000</td>\n",
              "      <td>0.000000</td>\n",
              "      <td>0.000000</td>\n",
              "      <td>0.000000</td>\n",
              "    </tr>\n",
              "    <tr>\n",
              "      <th>75%</th>\n",
              "      <td>2.230591e+06</td>\n",
              "      <td>4.500000</td>\n",
              "      <td>210.000000</td>\n",
              "      <td>1.380000e+04</td>\n",
              "      <td>59.000000</td>\n",
              "      <td>60.00000</td>\n",
              "      <td>0.000000</td>\n",
              "      <td>1.000000</td>\n",
              "      <td>0.000000</td>\n",
              "      <td>0.000000</td>\n",
              "    </tr>\n",
              "    <tr>\n",
              "      <th>max</th>\n",
              "      <td>2.359685e+06</td>\n",
              "      <td>5.000000</td>\n",
              "      <td>19000.000000</td>\n",
              "      <td>1.300000e+06</td>\n",
              "      <td>549.000000</td>\n",
              "      <td>549.00000</td>\n",
              "      <td>1.000000</td>\n",
              "      <td>1.000000</td>\n",
              "      <td>1.000000</td>\n",
              "      <td>1.000000</td>\n",
              "    </tr>\n",
              "  </tbody>\n",
              "</table>\n",
              "</div>"
            ],
            "text/plain": [
              "                 id       rating  ...  limited_edition  limited_time_offer\n",
              "count  9.168000e+03  9168.000000  ...      9168.000000         9168.000000\n",
              "mean   1.962952e+06     3.990020  ...         0.091841            0.000327\n",
              "std    3.859714e+05     1.007707  ...         0.288817            0.018087\n",
              "min    5.000000e+01     0.000000  ...         0.000000            0.000000\n",
              "25%    1.819453e+06     4.000000  ...         0.000000            0.000000\n",
              "50%    2.072354e+06     4.000000  ...         0.000000            0.000000\n",
              "75%    2.230591e+06     4.500000  ...         0.000000            0.000000\n",
              "max    2.359685e+06     5.000000  ...         1.000000            1.000000\n",
              "\n",
              "[8 rows x 10 columns]"
            ]
          },
          "metadata": {
            "tags": []
          },
          "execution_count": 8
        }
      ]
    },
    {
      "cell_type": "code",
      "metadata": {
        "id": "a2ulKyrTuvCo",
        "colab_type": "code",
        "colab": {
          "base_uri": "https://localhost:8080/",
          "height": 173
        },
        "outputId": "854a944d-5967-4429-8077-d179011944aa"
      },
      "source": [
        "sep.describe(include=np.object)"
      ],
      "execution_count": 9,
      "outputs": [
        {
          "output_type": "execute_result",
          "data": {
            "text/html": [
              "<div>\n",
              "<style scoped>\n",
              "    .dataframe tbody tr th:only-of-type {\n",
              "        vertical-align: middle;\n",
              "    }\n",
              "\n",
              "    .dataframe tbody tr th {\n",
              "        vertical-align: top;\n",
              "    }\n",
              "\n",
              "    .dataframe thead th {\n",
              "        text-align: right;\n",
              "    }\n",
              "</style>\n",
              "<table border=\"1\" class=\"dataframe\">\n",
              "  <thead>\n",
              "    <tr style=\"text-align: right;\">\n",
              "      <th></th>\n",
              "      <th>brand</th>\n",
              "      <th>category</th>\n",
              "      <th>name</th>\n",
              "      <th>size</th>\n",
              "      <th>URL</th>\n",
              "      <th>MarketingFlags_content</th>\n",
              "      <th>options</th>\n",
              "      <th>details</th>\n",
              "      <th>how_to_use</th>\n",
              "      <th>ingredients</th>\n",
              "    </tr>\n",
              "  </thead>\n",
              "  <tbody>\n",
              "    <tr>\n",
              "      <th>count</th>\n",
              "      <td>9168</td>\n",
              "      <td>9168</td>\n",
              "      <td>9168</td>\n",
              "      <td>9168</td>\n",
              "      <td>9168</td>\n",
              "      <td>9168</td>\n",
              "      <td>9168</td>\n",
              "      <td>9168</td>\n",
              "      <td>9168</td>\n",
              "      <td>9168</td>\n",
              "    </tr>\n",
              "    <tr>\n",
              "      <th>unique</th>\n",
              "      <td>324</td>\n",
              "      <td>143</td>\n",
              "      <td>9106</td>\n",
              "      <td>1623</td>\n",
              "      <td>9168</td>\n",
              "      <td>10</td>\n",
              "      <td>564</td>\n",
              "      <td>8839</td>\n",
              "      <td>6497</td>\n",
              "      <td>6962</td>\n",
              "    </tr>\n",
              "    <tr>\n",
              "      <th>top</th>\n",
              "      <td>SEPHORA COLLECTION</td>\n",
              "      <td>Perfume</td>\n",
              "      <td>Blush</td>\n",
              "      <td>no size</td>\n",
              "      <td>https://www.sephora.com/product/refreshing-cle...</td>\n",
              "      <td>0</td>\n",
              "      <td>no options</td>\n",
              "      <td>no details</td>\n",
              "      <td>no instructions</td>\n",
              "      <td>unknown</td>\n",
              "    </tr>\n",
              "    <tr>\n",
              "      <th>freq</th>\n",
              "      <td>496</td>\n",
              "      <td>665</td>\n",
              "      <td>4</td>\n",
              "      <td>3161</td>\n",
              "      <td>1</td>\n",
              "      <td>4786</td>\n",
              "      <td>8377</td>\n",
              "      <td>14</td>\n",
              "      <td>1573</td>\n",
              "      <td>1630</td>\n",
              "    </tr>\n",
              "  </tbody>\n",
              "</table>\n",
              "</div>"
            ],
            "text/plain": [
              "                     brand category  ...       how_to_use ingredients\n",
              "count                 9168     9168  ...             9168        9168\n",
              "unique                 324      143  ...             6497        6962\n",
              "top     SEPHORA COLLECTION  Perfume  ...  no instructions     unknown\n",
              "freq                   496      665  ...             1573        1630\n",
              "\n",
              "[4 rows x 10 columns]"
            ]
          },
          "metadata": {
            "tags": []
          },
          "execution_count": 9
        }
      ]
    },
    {
      "cell_type": "markdown",
      "metadata": {
        "id": "BWaC9RZHmN1p",
        "colab_type": "text"
      },
      "source": [
        "# 브랜드에 따른 분석"
      ]
    },
    {
      "cell_type": "markdown",
      "metadata": {
        "id": "y8FHDEhNl7UW",
        "colab_type": "text"
      },
      "source": [
        "## 브랜드 전체에 대한 barplot \n",
        "- 너무 많은 브랜드가 있어서 한눈에 들어오지 않는 문제점을 발견"
      ]
    },
    {
      "cell_type": "code",
      "metadata": {
        "id": "0iJa0URo0bMY",
        "colab_type": "code",
        "colab": {
          "base_uri": "https://localhost:8080/",
          "height": 279
        },
        "outputId": "e8e774c6-b4c9-48b7-981a-d3f83903fda2"
      },
      "source": [
        "%matplotlib inline\n",
        "sns.countplot(x='brand', data = sep)\n",
        "plt.show()"
      ],
      "execution_count": 10,
      "outputs": [
        {
          "output_type": "display_data",
          "data": {
            "image/png": "[encoded data removed]",
            "text/plain": [
              "<Figure size 432x288 with 1 Axes>"
            ]
          },
          "metadata": {
            "tags": [],
            "needs_background": "light"
          }
        }
      ]
    },
    {
      "cell_type": "markdown",
      "metadata": {
        "id": "Npy_CoggmSyv",
        "colab_type": "text"
      },
      "source": [
        "## brand중 top 5에 대해서만 추출"
      ]
    },
    {
      "cell_type": "code",
      "metadata": {
        "id": "_hm-rBLBo3-h",
        "colab_type": "code",
        "colab": {}
      },
      "source": [
        "s=sep.groupby('brand').size()"
      ],
      "execution_count": 54,
      "outputs": []
    },
    {
      "cell_type": "code",
      "metadata": {
        "id": "tDwA5PKPo7VS",
        "colab_type": "code",
        "colab": {
          "base_uri": "https://localhost:8080/",
          "height": 143
        },
        "outputId": "14426ae4-ce08-4d8d-87d4-ccbdb559129e"
      },
      "source": [
        "s.nlargest(5)"
      ],
      "execution_count": 55,
      "outputs": [
        {
          "output_type": "execute_result",
          "data": {
            "text/plain": [
              "brand\n",
              "SEPHORA COLLECTION    496\n",
              "CLINIQUE              234\n",
              "tarte                 170\n",
              "TOM FORD              161\n",
              "Dior                  145\n",
              "dtype: int64"
            ]
          },
          "metadata": {
            "tags": []
          },
          "execution_count": 55
        }
      ]
    },
    {
      "cell_type": "markdown",
      "metadata": {
        "id": "WVup47TGmfVY",
        "colab_type": "text"
      },
      "source": [
        "### top5 추출"
      ]
    },
    {
      "cell_type": "code",
      "metadata": {
        "id": "2EOw5AKtlE_w",
        "colab_type": "code",
        "colab": {
          "base_uri": "https://localhost:8080/",
          "height": 35
        },
        "outputId": "dc9447f4-f77f-46a7-cf29-71b2cd681fa7"
      },
      "source": [
        "brand_col = [\"SEPHORA COLLECTION\",\"CLINIQUE\",\"tarte\",\"TOM FORD\",\"Dior\"]\n",
        "sep.brand.isin(brand_col)\n",
        "\n",
        "sep_brand2= sep[sep.brand.isin(brand_col)]\n",
        "sep_brand2.shape"
      ],
      "execution_count": 56,
      "outputs": [
        {
          "output_type": "execute_result",
          "data": {
            "text/plain": [
              "(1206, 21)"
            ]
          },
          "metadata": {
            "tags": []
          },
          "execution_count": 56
        }
      ]
    },
    {
      "cell_type": "code",
      "metadata": {
        "id": "voy4VbiIlkFa",
        "colab_type": "code",
        "colab": {
          "base_uri": "https://localhost:8080/",
          "height": 1000
        },
        "outputId": "ff00c9e9-05f1-4970-a588-57c116e9868c"
      },
      "source": [
        "sep_brand2"
      ],
      "execution_count": 57,
      "outputs": [
        {
          "output_type": "execute_result",
          "data": {
            "text/html": [
              "<div>\n",
              "<style scoped>\n",
              "    .dataframe tbody tr th:only-of-type {\n",
              "        vertical-align: middle;\n",
              "    }\n",
              "\n",
              "    .dataframe tbody tr th {\n",
              "        vertical-align: top;\n",
              "    }\n",
              "\n",
              "    .dataframe thead th {\n",
              "        text-align: right;\n",
              "    }\n",
              "</style>\n",
              "<table border=\"1\" class=\"dataframe\">\n",
              "  <thead>\n",
              "    <tr style=\"text-align: right;\">\n",
              "      <th></th>\n",
              "      <th>id</th>\n",
              "      <th>brand</th>\n",
              "      <th>category</th>\n",
              "      <th>name</th>\n",
              "      <th>size</th>\n",
              "      <th>rating</th>\n",
              "      <th>number_of_reviews</th>\n",
              "      <th>love</th>\n",
              "      <th>price</th>\n",
              "      <th>value_price</th>\n",
              "      <th>URL</th>\n",
              "      <th>MarketingFlags</th>\n",
              "      <th>MarketingFlags_content</th>\n",
              "      <th>options</th>\n",
              "      <th>details</th>\n",
              "      <th>how_to_use</th>\n",
              "      <th>ingredients</th>\n",
              "      <th>online_only</th>\n",
              "      <th>exclusive</th>\n",
              "      <th>limited_edition</th>\n",
              "      <th>limited_time_offer</th>\n",
              "    </tr>\n",
              "  </thead>\n",
              "  <tbody>\n",
              "    <tr>\n",
              "      <th>1665</th>\n",
              "      <td>2019461</td>\n",
              "      <td>CLINIQUE</td>\n",
              "      <td>Moisturizers</td>\n",
              "      <td>Moisture Surge 72-Hour Auto-Replenishing Hydrator</td>\n",
              "      <td>no size</td>\n",
              "      <td>4.5</td>\n",
              "      <td>1000</td>\n",
              "      <td>71100</td>\n",
              "      <td>39.5</td>\n",
              "      <td>39.5</td>\n",
              "      <td>https://www.sephora.com/product/moisture-surge...</td>\n",
              "      <td>False</td>\n",
              "      <td>0</td>\n",
              "      <td>no options</td>\n",
              "      <td>What it is:  A refreshing- oil-free gel cream ...</td>\n",
              "      <td>Suggested Usage:-This multitasking formula can...</td>\n",
              "      <td>-Auto-Replenishing Technology with Caffeine: ...</td>\n",
              "      <td>0</td>\n",
              "      <td>0</td>\n",
              "      <td>0</td>\n",
              "      <td>0</td>\n",
              "    </tr>\n",
              "    <tr>\n",
              "      <th>1666</th>\n",
              "      <td>1538354</td>\n",
              "      <td>CLINIQUE</td>\n",
              "      <td>Moisturizers</td>\n",
              "      <td>Dramatically Different Moisturizing Lotion+</td>\n",
              "      <td>no size</td>\n",
              "      <td>4.0</td>\n",
              "      <td>1000</td>\n",
              "      <td>72900</td>\n",
              "      <td>28.0</td>\n",
              "      <td>28.0</td>\n",
              "      <td>https://www.sephora.com/product/dramatically-d...</td>\n",
              "      <td>False</td>\n",
              "      <td>0</td>\n",
              "      <td>no options</td>\n",
              "      <td>What it is:  A dermatologist-developed face mo...</td>\n",
              "      <td>Suggested Usage:-Spread all over face and thro...</td>\n",
              "      <td>-Sunflower Seed Cake- Barley Extract- and Cucu...</td>\n",
              "      <td>0</td>\n",
              "      <td>0</td>\n",
              "      <td>0</td>\n",
              "      <td>0</td>\n",
              "    </tr>\n",
              "    <tr>\n",
              "      <th>1667</th>\n",
              "      <td>789727</td>\n",
              "      <td>CLINIQUE</td>\n",
              "      <td>Moisturizers</td>\n",
              "      <td>Dramatically Different Moisturizing Gel</td>\n",
              "      <td>no size</td>\n",
              "      <td>4.5</td>\n",
              "      <td>3000</td>\n",
              "      <td>83000</td>\n",
              "      <td>28.0</td>\n",
              "      <td>28.0</td>\n",
              "      <td>https://www.sephora.com/product/dramatically-d...</td>\n",
              "      <td>False</td>\n",
              "      <td>0</td>\n",
              "      <td>no options</td>\n",
              "      <td>What it is:  A dermatologist-developed- oil-fr...</td>\n",
              "      <td>Suggested Usage:-Spread all over face and thro...</td>\n",
              "      <td>-Sunflower Seed Cake- Barley Extract- and Cuc...</td>\n",
              "      <td>0</td>\n",
              "      <td>0</td>\n",
              "      <td>0</td>\n",
              "      <td>0</td>\n",
              "    </tr>\n",
              "    <tr>\n",
              "      <th>1668</th>\n",
              "      <td>899070</td>\n",
              "      <td>CLINIQUE</td>\n",
              "      <td>Face Wash &amp; Cleansers</td>\n",
              "      <td>Liquid Facial Soap</td>\n",
              "      <td>no size</td>\n",
              "      <td>4.5</td>\n",
              "      <td>2000</td>\n",
              "      <td>46500</td>\n",
              "      <td>18.5</td>\n",
              "      <td>18.5</td>\n",
              "      <td>https://www.sephora.com/product/liquid-facial-...</td>\n",
              "      <td>False</td>\n",
              "      <td>0</td>\n",
              "      <td>no options</td>\n",
              "      <td>Which skin type is it good for?✔ Normal✔ Oily✔...</td>\n",
              "      <td>Suggested Usage:-With tepid water- lather Liqu...</td>\n",
              "      <td>Water- Sodium Laureth Sulfate- Sodium Chloride...</td>\n",
              "      <td>0</td>\n",
              "      <td>0</td>\n",
              "      <td>0</td>\n",
              "      <td>0</td>\n",
              "    </tr>\n",
              "    <tr>\n",
              "      <th>1669</th>\n",
              "      <td>2084010</td>\n",
              "      <td>CLINIQUE</td>\n",
              "      <td>Foundation</td>\n",
              "      <td>Even Better Foundation Makeup Broad Spectrum S...</td>\n",
              "      <td>no size</td>\n",
              "      <td>4.0</td>\n",
              "      <td>2000</td>\n",
              "      <td>67300</td>\n",
              "      <td>29.5</td>\n",
              "      <td>29.5</td>\n",
              "      <td>https://www.sephora.com/product/even-better-ma...</td>\n",
              "      <td>False</td>\n",
              "      <td>0</td>\n",
              "      <td>no options</td>\n",
              "      <td>What it is: A dermatologist-developed foundati...</td>\n",
              "      <td>Suggested Usage:-Start in center of your face-...</td>\n",
              "      <td>-Octinoxate 5.9%- Titanium Dioxide 3.5%- Zinc ...</td>\n",
              "      <td>0</td>\n",
              "      <td>0</td>\n",
              "      <td>0</td>\n",
              "      <td>0</td>\n",
              "    </tr>\n",
              "    <tr>\n",
              "      <th>...</th>\n",
              "      <td>...</td>\n",
              "      <td>...</td>\n",
              "      <td>...</td>\n",
              "      <td>...</td>\n",
              "      <td>...</td>\n",
              "      <td>...</td>\n",
              "      <td>...</td>\n",
              "      <td>...</td>\n",
              "      <td>...</td>\n",
              "      <td>...</td>\n",
              "      <td>...</td>\n",
              "      <td>...</td>\n",
              "      <td>...</td>\n",
              "      <td>...</td>\n",
              "      <td>...</td>\n",
              "      <td>...</td>\n",
              "      <td>...</td>\n",
              "      <td>...</td>\n",
              "      <td>...</td>\n",
              "      <td>...</td>\n",
              "      <td>...</td>\n",
              "    </tr>\n",
              "    <tr>\n",
              "      <th>9163</th>\n",
              "      <td>2208502</td>\n",
              "      <td>SEPHORA COLLECTION</td>\n",
              "      <td>Face Masks</td>\n",
              "      <td>The Rose Gold Mask</td>\n",
              "      <td>no size</td>\n",
              "      <td>2.0</td>\n",
              "      <td>15</td>\n",
              "      <td>6200</td>\n",
              "      <td>6.0</td>\n",
              "      <td>6.0</td>\n",
              "      <td>https://www.sephora.com/product/the-rose-gold-...</td>\n",
              "      <td>True</td>\n",
              "      <td>limited edition · exclusive</td>\n",
              "      <td>no options</td>\n",
              "      <td>What it is: A limited-edition- nurturing and h...</td>\n",
              "      <td>Suggested Usage:-Unfold the mask.-Apply the ma...</td>\n",
              "      <td>-Rose Quartz Extract: Hydrates dry skin.  Aqua...</td>\n",
              "      <td>0</td>\n",
              "      <td>1</td>\n",
              "      <td>1</td>\n",
              "      <td>0</td>\n",
              "    </tr>\n",
              "    <tr>\n",
              "      <th>9164</th>\n",
              "      <td>2298909</td>\n",
              "      <td>SEPHORA COLLECTION</td>\n",
              "      <td>Lip Sets</td>\n",
              "      <td>Give Me Some Sugar Colorful Gloss Balm Set</td>\n",
              "      <td>3 x 0.32 oz/ 9 g</td>\n",
              "      <td>0.0</td>\n",
              "      <td>0</td>\n",
              "      <td>266</td>\n",
              "      <td>15.0</td>\n",
              "      <td>27.0</td>\n",
              "      <td>https://www.sephora.com/product/sephora-collec...</td>\n",
              "      <td>True</td>\n",
              "      <td>exclusive</td>\n",
              "      <td>no options</td>\n",
              "      <td>What it is: A set of three bestselling Colorfu...</td>\n",
              "      <td>Suggested Usage:-Apply directly to lips using ...</td>\n",
              "      <td>Colorful Gloss Balm Wanderlust: Hydrogenated P...</td>\n",
              "      <td>0</td>\n",
              "      <td>1</td>\n",
              "      <td>0</td>\n",
              "      <td>0</td>\n",
              "    </tr>\n",
              "    <tr>\n",
              "      <th>9165</th>\n",
              "      <td>2236750</td>\n",
              "      <td>SEPHORA COLLECTION</td>\n",
              "      <td>Tinted Moisturizer</td>\n",
              "      <td>Weekend Warrior Tone Up Cream</td>\n",
              "      <td>0.946 oz/ 28 mL</td>\n",
              "      <td>0.0</td>\n",
              "      <td>0</td>\n",
              "      <td>445</td>\n",
              "      <td>16.0</td>\n",
              "      <td>16.0</td>\n",
              "      <td>https://www.sephora.com/product/sephora-collec...</td>\n",
              "      <td>True</td>\n",
              "      <td>exclusive</td>\n",
              "      <td>no options</td>\n",
              "      <td>What it is: A weightless complexion booster- i...</td>\n",
              "      <td>Suggested Usage:-Use this product as the last ...</td>\n",
              "      <td>Aqua (Water)- Dimethicone- Isohexadecane- Poly...</td>\n",
              "      <td>0</td>\n",
              "      <td>1</td>\n",
              "      <td>0</td>\n",
              "      <td>0</td>\n",
              "    </tr>\n",
              "    <tr>\n",
              "      <th>9166</th>\n",
              "      <td>50</td>\n",
              "      <td>SEPHORA COLLECTION</td>\n",
              "      <td>no category</td>\n",
              "      <td>Gift Card</td>\n",
              "      <td>no size</td>\n",
              "      <td>5.0</td>\n",
              "      <td>46</td>\n",
              "      <td>0</td>\n",
              "      <td>50.0</td>\n",
              "      <td>50.0</td>\n",
              "      <td>https://www.sephora.com/product/gift-card-P370...</td>\n",
              "      <td>False</td>\n",
              "      <td>0</td>\n",
              "      <td>no options</td>\n",
              "      <td>What it is:- Available in denominations of $10...</td>\n",
              "      <td>no instructions</td>\n",
              "      <td>unknown</td>\n",
              "      <td>0</td>\n",
              "      <td>0</td>\n",
              "      <td>0</td>\n",
              "      <td>0</td>\n",
              "    </tr>\n",
              "    <tr>\n",
              "      <th>9167</th>\n",
              "      <td>304</td>\n",
              "      <td>SEPHORA COLLECTION</td>\n",
              "      <td>no category</td>\n",
              "      <td>Happy Birthday Gift Card</td>\n",
              "      <td>no size</td>\n",
              "      <td>0.0</td>\n",
              "      <td>0</td>\n",
              "      <td>0</td>\n",
              "      <td>50.0</td>\n",
              "      <td>50.0</td>\n",
              "      <td>https://www.sephora.com/product/happy-birthday...</td>\n",
              "      <td>False</td>\n",
              "      <td>0</td>\n",
              "      <td>no options</td>\n",
              "      <td>What it is:\\n- Available in denominations of $...</td>\n",
              "      <td>no instructions</td>\n",
              "      <td>unknown</td>\n",
              "      <td>0</td>\n",
              "      <td>0</td>\n",
              "      <td>0</td>\n",
              "      <td>0</td>\n",
              "    </tr>\n",
              "  </tbody>\n",
              "</table>\n",
              "<p>1206 rows × 21 columns</p>\n",
              "</div>"
            ],
            "text/plain": [
              "           id               brand  ... limited_edition limited_time_offer\n",
              "1665  2019461            CLINIQUE  ...               0                  0\n",
              "1666  1538354            CLINIQUE  ...               0                  0\n",
              "1667   789727            CLINIQUE  ...               0                  0\n",
              "1668   899070            CLINIQUE  ...               0                  0\n",
              "1669  2084010            CLINIQUE  ...               0                  0\n",
              "...       ...                 ...  ...             ...                ...\n",
              "9163  2208502  SEPHORA COLLECTION  ...               1                  0\n",
              "9164  2298909  SEPHORA COLLECTION  ...               0                  0\n",
              "9165  2236750  SEPHORA COLLECTION  ...               0                  0\n",
              "9166       50  SEPHORA COLLECTION  ...               0                  0\n",
              "9167      304  SEPHORA COLLECTION  ...               0                  0\n",
              "\n",
              "[1206 rows x 21 columns]"
            ]
          },
          "metadata": {
            "tags": []
          },
          "execution_count": 57
        }
      ]
    },
    {
      "cell_type": "markdown",
      "metadata": {
        "id": "NN1vSbtxmlxQ",
        "colab_type": "text"
      },
      "source": [
        "### brand top 5에* 대한 bar plot"
      ]
    },
    {
      "cell_type": "code",
      "metadata": {
        "id": "Kp4ICUlnuz4d",
        "colab_type": "code",
        "colab": {
          "base_uri": "https://localhost:8080/",
          "height": 279
        },
        "outputId": "bbd2be85-daa5-4a15-bf6c-cc15e0bc0733"
      },
      "source": [
        "%matplotlib inline\n",
        "sns.countplot(x='brand', data = sep_brand2)\n",
        "plt.show()"
      ],
      "execution_count": 58,
      "outputs": [
        {
          "output_type": "display_data",
          "data": {
            "image/png": "[encoded data removed]",
            "text/plain": [
              "<Figure size 432x288 with 1 Axes>"
            ]
          },
          "metadata": {
            "tags": [],
            "needs_background": "light"
          }
        }
      ]
    },
    {
      "cell_type": "markdown",
      "metadata": {
        "id": "Od5ZhqyVuV2K",
        "colab_type": "text"
      },
      "source": [
        "## top 5브랜드 별 category top 5"
      ]
    },
    {
      "cell_type": "code",
      "metadata": {
        "id": "5aXKGztcuVca",
        "colab_type": "code",
        "colab": {}
      },
      "source": [
        "b=sep_brand2.groupby('category').size()"
      ],
      "execution_count": 44,
      "outputs": []
    },
    {
      "cell_type": "code",
      "metadata": {
        "id": "l1ohND_Yu3N7",
        "colab_type": "code",
        "colab": {
          "base_uri": "https://localhost:8080/",
          "height": 143
        },
        "outputId": "f408497b-1221-4af1-be34-d2dc6c1629f9"
      },
      "source": [
        "b.nlargest(5)"
      ],
      "execution_count": 59,
      "outputs": [
        {
          "output_type": "execute_result",
          "data": {
            "text/plain": [
              "category\n",
              "Moisturizers         98\n",
              "Perfume              92\n",
              "Face Brushes         72\n",
              "Mascara              64\n",
              "Value & Gift Sets    64\n",
              "dtype: int64"
            ]
          },
          "metadata": {
            "tags": []
          },
          "execution_count": 59
        }
      ]
    },
    {
      "cell_type": "code",
      "metadata": {
        "id": "viw0eC2QvIjq",
        "colab_type": "code",
        "colab": {
          "base_uri": "https://localhost:8080/",
          "height": 35
        },
        "outputId": "467ace74-16f3-498e-e4be-e31de4114a26"
      },
      "source": [
        "category_col = [\"Moisturizers\",\"Perfume\",\"Face Brushes\",\"Mascara \",\"Value & Gift Sets\"]\n",
        "sep_brand2.category.isin(category_col)\n",
        "\n",
        "sep_category= sep_brand2[sep_brand2.category.isin(category_col)]\n",
        "sep_category.shape"
      ],
      "execution_count": 60,
      "outputs": [
        {
          "output_type": "execute_result",
          "data": {
            "text/plain": [
              "(216, 21)"
            ]
          },
          "metadata": {
            "tags": []
          },
          "execution_count": 60
        }
      ]
    },
    {
      "cell_type": "markdown",
      "metadata": {
        "id": "ms3FRowyv8Ox",
        "colab_type": "text"
      },
      "source": [
        "### top10브랜드와 top 5 category 사이의 관계 "
      ]
    },
    {
      "cell_type": "code",
      "metadata": {
        "id": "ntBdXmDuxCl9",
        "colab_type": "code",
        "colab": {
          "base_uri": "https://localhost:8080/",
          "height": 279
        },
        "outputId": "ef1cf508-5928-4f90-d9b5-9f9f6ada183c"
      },
      "source": [
        "sns.countplot(x = \"brand\", data=sep_category, hue = \"category\")\n",
        "plt.show()"
      ],
      "execution_count": 67,
      "outputs": [
        {
          "output_type": "display_data",
          "data": {
            "image/png": "[encoded data removed]",
            "text/plain": [
              "<Figure size 432x288 with 1 Axes>"
            ]
          },
          "metadata": {
            "tags": [],
            "needs_background": "light"
          }
        }
      ]
    },
    {
      "cell_type": "markdown",
      "metadata": {
        "id": "P_QiVjXqrB6T",
        "colab_type": "text"
      },
      "source": [
        "#### top10브랜드와 top 5 category 사이의 관계에서 온라인 판매 조사"
      ]
    },
    {
      "cell_type": "code",
      "metadata": {
        "id": "giXMMJgRoYj6",
        "colab_type": "code",
        "colab": {
          "base_uri": "https://localhost:8080/",
          "height": 89
        },
        "outputId": "eacf3b35-caf3-4690-ca1a-eb0678a191c3"
      },
      "source": [
        "sep_category.groupby('online_only').size()"
      ],
      "execution_count": 63,
      "outputs": [
        {
          "output_type": "execute_result",
          "data": {
            "text/plain": [
              "online_only\n",
              "0    193\n",
              "1     23\n",
              "dtype: int64"
            ]
          },
          "metadata": {
            "tags": []
          },
          "execution_count": 63
        }
      ]
    },
    {
      "cell_type": "code",
      "metadata": {
        "id": "I8GCh99V5iHw",
        "colab_type": "code",
        "colab": {
          "base_uri": "https://localhost:8080/",
          "height": 279
        },
        "outputId": "0c8fac4b-95b4-4356-95d6-5ea9ba6b5550"
      },
      "source": [
        "sns.countplot(x = \"brand\", data=sep_category, hue = \"online_only\")\n",
        "plt.show()"
      ],
      "execution_count": 76,
      "outputs": [
        {
          "output_type": "display_data",
          "data": {
            "image/png": "[encoded data removed]",
            "text/plain": [
              "<Figure size 432x288 with 1 Axes>"
            ]
          },
          "metadata": {
            "tags": [],
            "needs_background": "light"
          }
        }
      ]
    },
    {
      "cell_type": "code",
      "metadata": {
        "id": "k0qqT8hI7Lkw",
        "colab_type": "code",
        "colab": {
          "base_uri": "https://localhost:8080/",
          "height": 279
        },
        "outputId": "1c26d728-ca4e-4a5b-f808-7283045be6c3"
      },
      "source": [
        "sns.countplot(x = \"category\", data=sep_category, hue = \"online_only\")\n",
        "plt.show()"
      ],
      "execution_count": 77,
      "outputs": [
        {
          "output_type": "display_data",
          "data": {
            "image/png": "[encoded data removed]",
            "text/plain": [
              "<Figure size 432x288 with 1 Axes>"
            ]
          },
          "metadata": {
            "tags": [],
            "needs_background": "light"
          }
        }
      ]
    }
  ]
}